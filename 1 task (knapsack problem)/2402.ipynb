{
 "cells": [
  {
   "cell_type": "code",
   "execution_count": 1,
   "id": "cb0c99be",
   "metadata": {},
   "outputs": [],
   "source": [
    "from pyscipopt import Model, quicksum\n",
    "import pandas as pd"
   ]
  },
  {
   "cell_type": "code",
   "execution_count": 2,
   "id": "73ac910b",
   "metadata": {},
   "outputs": [],
   "source": [
    "def read_backpack(file_location):\n",
    "    item = pd.read_csv(file_location, sep=' ', names=['v', 'w'])\n",
    "    n, K = list(item.iloc[0])\n",
    "    item.drop(0, inplace=True)\n",
    "    item.head()\n",
    "    item['id'] = range(1, n + 1)\n",
    "    return item, n, K"
   ]
  },
  {
   "cell_type": "code",
   "execution_count": 3,
   "id": "01f5a0ce",
   "metadata": {},
   "outputs": [],
   "source": [
    "def get_solution(item, n, K, destination):\n",
    "    m = Model()\n",
    "    select = {}\n",
    "    for j in item['id']:\n",
    "        select[j] = m.addVar(vtype=\"B\", name=\"select(%s)\"%j)\n",
    "    m.addCons(quicksum(select[i]*item['w'].iloc[i-1] for i in range(1, n+1)) <= K, name='Capacity_limit')\n",
    "    obj = quicksum(select[i]*item['v'].iloc[i-1] for i in range(1,n+1))\n",
    "    m.setObjective(obj, 'maximize')\n",
    "    m.optimize()\n",
    "    \n",
    "    \n",
    "    out = []\n",
    "    for i in item['id']:\n",
    "        out.append(round(int(m.getVal(select[i]))))\n",
    "    res = pd.DataFrame(out, columns=['var'])\n",
    "    #display(res)\n",
    "    res.to_excel(destination, index=False, header=True)"
   ]
  },
  {
   "cell_type": "code",
   "execution_count": 4,
   "id": "1eb1b315",
   "metadata": {},
   "outputs": [],
   "source": [
    "file_name = 'ks_4_0'\n",
    "file_location = 'C:/Users/sultan.yarylgasimov/Desktop/MSU/8 semester/Practical Optimization/data/'+file_name\n",
    "item, n, K = read_backpack(file_location)"
   ]
  },
  {
   "cell_type": "code",
   "execution_count": 5,
   "id": "b314adba",
   "metadata": {
    "scrolled": false
   },
   "outputs": [],
   "source": [
    "destination = 'C:/Users/sultan.yarylgasimov/Desktop/MSU/8 semester/Practical Optimization/results/'+file_name+'.xlsx'\n",
    "get_solution(item, n, K, destination)"
   ]
  },
  {
   "cell_type": "code",
   "execution_count": 6,
   "id": "2ece3a9e",
   "metadata": {},
   "outputs": [],
   "source": [
    "for file_name in ['ks_30_0', 'ks_50_0', 'ks_200_0', 'ks_400_0', 'ks_1000_0', 'ks_10000_0']:\n",
    "    file_location = 'C:/Users/sultan.yarylgasimov/Desktop/MSU/8 semester/Practical Optimization/data/'+file_name\n",
    "    item, n, K = read_backpack(file_location)\n",
    "    destination = 'C:/Users/sultan.yarylgasimov/Desktop/MSU/8 semester/Practical Optimization/results/'+file_name+'.xlsx'\n",
    "    get_solution(item, n, K, destination)"
   ]
  },
  {
   "cell_type": "code",
   "execution_count": null,
   "id": "e818568f",
   "metadata": {},
   "outputs": [],
   "source": []
  }
 ],
 "metadata": {
  "kernelspec": {
   "display_name": "scipenv",
   "language": "python",
   "name": "scipenv"
  },
  "language_info": {
   "codemirror_mode": {
    "name": "ipython",
    "version": 3
   },
   "file_extension": ".py",
   "mimetype": "text/x-python",
   "name": "python",
   "nbconvert_exporter": "python",
   "pygments_lexer": "ipython3",
   "version": "3.10.9"
  }
 },
 "nbformat": 4,
 "nbformat_minor": 5
}

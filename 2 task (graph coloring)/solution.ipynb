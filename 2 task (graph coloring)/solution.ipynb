{
 "cells": [
  {
   "cell_type": "code",
   "execution_count": 1,
   "id": "cb0c99be",
   "metadata": {},
   "outputs": [],
   "source": [
    "import pandas as pd"
   ]
  },
  {
   "cell_type": "code",
   "execution_count": 2,
   "id": "cf1e5dd5",
   "metadata": {},
   "outputs": [],
   "source": [
    "from ortools.sat.python import cp_model"
   ]
  },
  {
   "cell_type": "code",
   "execution_count": 3,
   "id": "62982b9d",
   "metadata": {},
   "outputs": [],
   "source": [
    "def solve_it(input_data, time_limit, file_name='LOG'):\n",
    "    # This one uses color_number as variable\n",
    "    \n",
    "    # parse the input\n",
    "    lines = input_data.split('\\n')\n",
    "    first_line = lines[0].split()\n",
    "    node_count = int(first_line[0])\n",
    "    edge_count = int(first_line[1])\n",
    "\n",
    "    edges = []\n",
    "    for i in range(1, edge_count + 1):\n",
    "        line = lines[i]\n",
    "        parts = line.split()\n",
    "        edges.append((int(parts[0]), int(parts[1])))\n",
    "\n",
    "    model = cp_model.CpModel()\n",
    "    color_number = model.NewIntVar(0, node_count, 'color_number')\n",
    "    color = [\n",
    "        model.NewIntVar(0, node_count, 'color%i' % i) for i in range(node_count)\n",
    "    ]\n",
    "    for i in range(node_count):\n",
    "        model.Add(color[int(i)] <= color_number)\n",
    "    for i, j in edges:\n",
    "        model.Add(color[int(i)]!=color[int(j)])\n",
    "    model.Minimize(color_number)\n",
    "    solver = cp_model.CpSolver()\n",
    "    solver.parameters.max_time_in_seconds = time_limit\n",
    "    status = solver.Solve(model)\n",
    "        \n",
    "    solution = []\n",
    "    if status == cp_model.OPTIMAL or status == cp_model.FEASIBLE:\n",
    "        print(file_name+': OPT SOLUTION FOUND ON ' + str(solver.Value(color_number) + 1) + ' COLORS')\n",
    "    for i in color:\n",
    "        solution.append(solver.Value(i))\n",
    "\n",
    "    return solution"
   ]
  },
  {
   "cell_type": "code",
   "execution_count": 4,
   "id": "4d0a0098",
   "metadata": {},
   "outputs": [],
   "source": [
    "def solve_it_for_one(input_data, file_name='LOG', color_number=-1):\n",
    "    # This one uses color_number as constant\n",
    "    \n",
    "    # parse the input\n",
    "    lines = input_data.split('\\n')\n",
    "    first_line = lines[0].split()\n",
    "    node_count = int(first_line[0])\n",
    "    edge_count = int(first_line[1])\n",
    "\n",
    "    edges = []\n",
    "    for i in range(1, edge_count + 1):\n",
    "        line = lines[i]\n",
    "        parts = line.split()\n",
    "        edges.append((int(parts[0]), int(parts[1])))\n",
    "\n",
    "    model = cp_model.CpModel()\n",
    "    color = [\n",
    "        model.NewIntVar(0, color_number-1, 'color%i' % i) for i in range(node_count)\n",
    "    ]\n",
    "    for i, j in edges:\n",
    "        model.Add(color[int(i)]!=color[int(j)])\n",
    "    model.Minimize(color_number)\n",
    "    solver = cp_model.CpSolver()\n",
    "    status = solver.Solve(model)\n",
    "        \n",
    "    solution = []\n",
    "    if status == cp_model.OPTIMAL or status == cp_model.FEASIBLE:\n",
    "        print(file_name+': OPT SOLUTION FOUND ON ' + str(color_number) + ' COLORS')\n",
    "    for i in color:\n",
    "        solution.append(solver.Value(i))\n",
    "\n",
    "    return solution"
   ]
  },
  {
   "cell_type": "code",
   "execution_count": 5,
   "id": "416bc62f",
   "metadata": {},
   "outputs": [],
   "source": [
    "def get_result(file_name, time_limit=120, color_number=-1):\n",
    "    with open('data/'+file_name, 'r') as input_data_file:\n",
    "        input_data = input_data_file.read()\n",
    "    if color_number == -1:\n",
    "        solution = solve_it(input_data, time_limit, file_name)\n",
    "    else:\n",
    "        solution = solve_it_for_one(input_data, file_name, color_number)\n",
    "    res = pd.DataFrame(solution, columns=['Color'])\n",
    "    res.to_excel(file_name+'_res.xlsx', index=False, header=True)"
   ]
  },
  {
   "cell_type": "code",
   "execution_count": 6,
   "id": "a3ec782d",
   "metadata": {},
   "outputs": [
    {
     "name": "stdout",
     "output_type": "stream",
     "text": [
      "1_gc_50_3: OPT SOLUTION FOUND ON 6 COLORS\n"
     ]
    }
   ],
   "source": [
    "for file_name in ['1_gc_50_3', '2_gc_70_7', '3_gc_100_5', '4_gc_250_9', '5_gc_500_1', '6_gc_1000_5']:\n",
    "    get_result(file_name)"
   ]
  },
  {
   "cell_type": "code",
   "execution_count": 6,
   "id": "c8d5a680",
   "metadata": {},
   "outputs": [
    {
     "name": "stdout",
     "output_type": "stream",
     "text": [
      "6_gc_1000_5: OPT SOLUTION FOUND ON 123 COLORS\n"
     ]
    }
   ],
   "source": [
    "get_result('6_gc_1000_5', time_limit=60*30)"
   ]
  },
  {
   "cell_type": "code",
   "execution_count": 6,
   "id": "910e214a",
   "metadata": {},
   "outputs": [
    {
     "name": "stdout",
     "output_type": "stream",
     "text": [
      "1_gc_50_3: OPT SOLUTION FOUND ON 6 COLORS\n"
     ]
    }
   ],
   "source": [
    "get_result('1_gc_50_3', color_number=6)"
   ]
  },
  {
   "cell_type": "code",
   "execution_count": null,
   "id": "e5955e4a",
   "metadata": {},
   "outputs": [],
   "source": [
    "get_result('4_gc_250_9', color_number=78)\n",
    "get_result('6_gc_1000_5', color_number=100)"
   ]
  },
  {
   "cell_type": "code",
   "execution_count": null,
   "id": "30c494e4",
   "metadata": {},
   "outputs": [],
   "source": []
  }
 ],
 "metadata": {
  "kernelspec": {
   "display_name": "scipenv",
   "language": "python",
   "name": "scipenv"
  },
  "language_info": {
   "codemirror_mode": {
    "name": "ipython",
    "version": 3
   },
   "file_extension": ".py",
   "mimetype": "text/x-python",
   "name": "python",
   "nbconvert_exporter": "python",
   "pygments_lexer": "ipython3",
   "version": "3.10.9"
  }
 },
 "nbformat": 4,
 "nbformat_minor": 5
}

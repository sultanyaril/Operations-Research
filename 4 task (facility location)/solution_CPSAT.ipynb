{
 "cells": [
  {
   "cell_type": "code",
   "execution_count": null,
   "id": "ee542333",
   "metadata": {},
   "outputs": [],
   "source": [
    "import pandas as pd\n",
    "import math\n",
    "from collections import namedtuple, defaultdict\n",
    "import random"
   ]
  },
  {
   "cell_type": "code",
   "execution_count": null,
   "id": "efb8983b",
   "metadata": {},
   "outputs": [],
   "source": [
    "from ortools.sat.python import cp_model"
   ]
  },
  {
   "cell_type": "code",
   "execution_count": null,
   "id": "b09d1395",
   "metadata": {},
   "outputs": [],
   "source": [
    "Point = namedtuple(\"Point\", ['x', 'y'])\n",
    "Facility = namedtuple(\"Facility\", ['index', 'setup_cost', 'capacity', 'location'])\n",
    "Customer = namedtuple(\"Customer\", ['index', 'demand', 'location'])"
   ]
  },
  {
   "cell_type": "code",
   "execution_count": null,
   "id": "69df94ab",
   "metadata": {},
   "outputs": [],
   "source": [
    "def length(point1, point2):\n",
    "    return math.sqrt((point1.x - point2.x)**2 + (point1.y - point2.y)**2)"
   ]
  },
  {
   "cell_type": "code",
   "execution_count": 5,
   "id": "e59ce315",
   "metadata": {},
   "outputs": [],
   "source": [
    "def solve_it(input_data, required_solution, use_memory=True):\n",
    "    # Modify this code to run your optimization algorithm\n",
    "\n",
    "    # parse the input\n",
    "    lines = input_data.split('\\n')\n",
    "\n",
    "    parts = lines[0].split()\n",
    "    facility_count = int(parts[0])\n",
    "    customer_count = int(parts[1])\n",
    "    \n",
    "    facilities = []\n",
    "    for i in range(1, facility_count+1):\n",
    "        parts = lines[i].split()\n",
    "        facilities.append(Facility(i-1, float(parts[0]), int(parts[1]), Point(float(parts[2]), float(parts[3])) ))\n",
    "\n",
    "    customers = []\n",
    "    for i in range(facility_count+1, facility_count+1+customer_count):\n",
    "        parts = lines[i].split()\n",
    "        customers.append(Customer(i-1-facility_count, int(parts[0]), Point(float(parts[1]), float(parts[2]))))\n",
    "    random.shuffle(customers)\n",
    "    random.shuffle(facilites)\n",
    "    # build a trivial solution\n",
    "    # Define the problem parameters\n",
    "    distances = defaultdict(dict)\n",
    "    if use_memory:\n",
    "        for i in range(facility_count):\n",
    "            for j in range(customer_count):\n",
    "                distances[i][j] = length(facilities[i].location, customers[j].location)\n",
    "\n",
    "    # Create the model\n",
    "    model = cp_model.CpModel()\n",
    "    \n",
    "    # Define the decision variables\n",
    "    facilities_var = [model.NewIntVar(0, 1, f'facility_{i}') for i in range(facility_count)]\n",
    "    customers_var = [[model.NewIntVar(0, 1, f'customer_{j}{i}') for i in range(customer_count)] for j in range(facility_count)]\n",
    "    \n",
    "    # Define the constraints\n",
    "    for i in range(customer_count):\n",
    "        model.Add(sum(customers_var[j][i] for j in range(facility_count)) == 1)\n",
    "        \n",
    "    for i in range(facility_count):\n",
    "        model.Add(sum(customers_var[i][j] * customers[j].demand for j in range(customer_count)) <= facilities[i].capacity)\n",
    "\n",
    "    for i in range(facility_count):\n",
    "        for j in range(customer_count):\n",
    "            model.Add(customers_var[i][j] <= facilities_var[i])\n",
    "        \n",
    "    # Define the objective function\n",
    "    fixed_cost = sum(facilities_var[i] * facilities[i].setup_cost for i in range(facility_count))\n",
    "    if use_memory:\n",
    "        transport_cost = sum(distances[i][j] * customers_var[i][j] for i in range(facility_count) for j in range(customer_count))\n",
    "    else:\n",
    "        transport_cost = sum(length(facilities[i].location, customers[j].location) * customers_var[i][j] for i in range(facility_count) for j in range(customer_count))\n",
    "    objective = model.Minimize(fixed_cost + transport_cost)    \n",
    "    \n",
    "    # Solve the problem\n",
    "    \n",
    "    class SolutionCallback(cp_model.CpSolverSolutionCallback):\n",
    "        def __init__(self):\n",
    "            cp_model.CpSolverSolutionCallback.__init__(self)\n",
    "            self.curr_min = float('inf')\n",
    "\n",
    "        def on_solution_callback(self):\n",
    "            if self.ObjectiveValue() < self.curr_min:\n",
    "                self.curr_min = self.ObjectiveValue()\n",
    "                print('NEW MIN', self.curr_min)\n",
    "                if self.curr_min < required_solution:\n",
    "                    self.StopSearch()\n",
    "\n",
    "    solver = cp_model.CpSolver()    \n",
    "    solution_callback = SolutionCallback()\n",
    "    status = solver.Solve(model, solution_callback)\n",
    "\n",
    "    # Print the solution\n",
    "    solution = []\n",
    "    for j in range(customer_count):\n",
    "        for i in range(facility_count):\n",
    "            if solver.Value(customers_var[i][j]):\n",
    "                solution.append(i)\n",
    "    \n",
    "    return solution"
   ]
  },
  {
   "cell_type": "code",
   "execution_count": 6,
   "id": "96281bd1",
   "metadata": {},
   "outputs": [],
   "source": [
    "def get_result(file_name, reqired_solution, use_memory=True):\n",
    "    with open('data/'+file_name, 'r') as input_data_file:\n",
    "        input_data = input_data_file.read()\n",
    "    solution = solve_it(input_data, reqired_solution, use_memory)\n",
    "    print(solution)\n",
    "    res = pd.DataFrame(solution, columns=['Order'])\n",
    "    res.to_excel(file_name+'_res.xlsx', index=False, header=True)"
   ]
  },
  {
   "cell_type": "code",
   "execution_count": 7,
   "id": "718ca16b",
   "metadata": {},
   "outputs": [
    {
     "name": "stdout",
     "output_type": "stream",
     "text": [
      "NEW MIN 6824138.866240978\n",
      "NEW MIN 3276471.400340557\n",
      "NEW MIN 3269821.3205299377\n",
      "[7, 7, 7, 7, 7, 7, 6, 7, 7, 7, 10, 7, 7, 7, 7, 7, 7, 6, 7, 7, 7, 7, 7, 7, 7, 7, 21, 7, 7, 7, 7, 7, 7, 16, 7, 7, 11, 6, 7, 7, 7, 7, 7, 7, 7, 7, 7, 7, 7, 7]\n"
     ]
    }
   ],
   "source": [
    "get_result('1_fl_25_2', 3270000)"
   ]
  },
  {
   "cell_type": "code",
   "execution_count": 8,
   "id": "07a567e7",
   "metadata": {},
   "outputs": [
    {
     "name": "stdout",
     "output_type": "stream",
     "text": [
      "NEW MIN 3791741.648204863\n",
      "NEW MIN 3783608.2302495837\n",
      "NEW MIN 3732793.433771789\n",
      "[28, 24, 19, 25, 14, 15, 34, 3, 9, 24, 35, 42, 41, 24, 49, 3, 16, 26, 43, 45, 45, 41, 9, 34, 9, 13, 19, 8, 38, 24, 24, 7, 9, 25, 31, 33, 28, 9, 28, 25, 38, 40, 35, 7, 2, 19, 40, 25, 41, 9, 34, 44, 41, 18, 35, 5, 9, 31, 14, 35, 31, 35, 44, 43, 9, 4, 8, 14, 25, 45, 28, 33, 41, 39, 42, 6, 8, 35, 6, 24, 40, 47, 31, 24, 31, 24, 24, 45, 34, 9, 7, 2, 5, 39, 25, 35, 24, 40, 31, 3, 47, 6, 39, 16, 31, 44, 2, 16, 9, 13, 8, 9, 47, 35, 15, 24, 43, 25, 42, 16, 35, 28, 34, 35, 13, 5, 8, 35, 18, 11, 38, 39, 43, 41, 47, 44, 9, 41, 9, 38, 38, 28, 19, 9, 28, 28, 42, 41, 47, 9, 35, 38, 29, 8, 45, 49, 16, 25, 26, 31, 38, 5, 49, 10, 7, 40, 44, 29, 34, 10, 2, 41, 13, 31, 40, 28, 35, 49, 44, 33, 4, 2, 16, 47, 28, 9, 3, 31, 11, 16, 31, 25, 5, 42, 13, 31, 8, 40, 44, 45]\n"
     ]
    }
   ],
   "source": [
    "get_result('2_fl_50_6', 3733000)"
   ]
  },
  {
   "cell_type": "code",
   "execution_count": 38,
   "id": "0eb1a4d1",
   "metadata": {},
   "outputs": [
    {
     "name": "stdout",
     "output_type": "stream",
     "text": [
      "NEW MIN 3764.68298047781\n",
      "NEW MIN 3759.5563113689423\n",
      "NEW MIN 3750.497806072235\n",
      "NEW MIN 2366.034209191799\n",
      "NEW MIN 1965.55449706316\n",
      "[70, 70, 70, 70, 70, 70, 70, 70, 70, 70, 70, 70, 70, 70, 70, 70, 70, 70, 70, 70, 70, 70, 70, 70, 70, 70, 70, 70, 70, 70, 70, 70, 70, 70, 70, 70, 70, 70, 70, 70, 70, 70, 70, 70, 70, 70, 70, 70, 70, 70, 70, 70, 70, 70, 70, 70, 70, 70, 70, 70, 70, 70, 70, 70, 70, 70, 70, 70, 70, 70, 70, 70, 70, 70, 70, 70, 70, 70, 70, 70, 70, 70, 70, 70, 70, 70, 70, 70, 70, 70, 70, 70, 70, 70, 70, 70, 70, 70, 70, 70]\n"
     ]
    }
   ],
   "source": [
    "get_result('3_fl_100_7', 1970)"
   ]
  },
  {
   "cell_type": "code",
   "execution_count": 39,
   "id": "2ec3ece1",
   "metadata": {},
   "outputs": [
    {
     "name": "stdout",
     "output_type": "stream",
     "text": [
      "NEW MIN 3276471.400340557\n",
      "NEW MIN 3269821.3205299377\n",
      "[7, 7, 7, 7, 7, 7, 6, 7, 7, 7, 10, 7, 7, 7, 7, 7, 7, 6, 7, 7, 7, 7, 7, 7, 7, 7, 21, 7, 7, 7, 7, 7, 7, 16, 7, 7, 11, 6, 7, 7, 7, 7, 7, 7, 7, 7, 7, 7, 7, 7]\n"
     ]
    }
   ],
   "source": [
    "get_result('1_fl_25_2', 3270000, False)"
   ]
  },
  {
   "cell_type": "code",
   "execution_count": 40,
   "id": "fc3e0422",
   "metadata": {},
   "outputs": [
    {
     "name": "stdout",
     "output_type": "stream",
     "text": [
      "NEW MIN 5483302.638136387\n",
      "NEW MIN 5443011.982903957\n",
      "NEW MIN 5389586.966907501\n",
      "NEW MIN 5310228.766629696\n",
      "NEW MIN 5298777.863070011\n",
      "NEW MIN 5297816.428240776\n",
      "NEW MIN 5266731.752529144\n",
      "NEW MIN 5263608.283154964\n",
      "NEW MIN 5253579.262530327\n",
      "NEW MIN 5240625.998421192\n",
      "NEW MIN 5230538.213449001\n",
      "NEW MIN 5122073.562277317\n",
      "NEW MIN 5117874.860055447\n",
      "NEW MIN 5070231.218257904\n",
      "NEW MIN 5070069.5485191345\n",
      "NEW MIN 4776686.434475899\n",
      "NEW MIN 4776099.901051044\n",
      "NEW MIN 4771438.212460041\n",
      "NEW MIN 4767937.7878780365\n",
      "NEW MIN 4763276.099287033\n",
      "NEW MIN 4762712.732536793\n",
      "NEW MIN 4731556.940750599\n",
      "NEW MIN 4731195.141463757\n",
      "NEW MIN 4724330.092485428\n",
      "NEW MIN 4724321.169708729\n",
      "NEW MIN 4723203.058654785\n",
      "NEW MIN 4722040.767947197\n",
      "NEW MIN 4718801.338684082\n",
      "NEW MIN 4718543.945394516\n",
      "NEW MIN 4717273.936330318\n",
      "NEW MIN 4717157.248537064\n",
      "NEW MIN 4716514.598334789\n",
      "NEW MIN 4716370.487510204\n",
      "NEW MIN 4716171.9241371155\n",
      "NEW MIN 4715881.88572979\n",
      "NEW MIN 4714353.234503269\n",
      "NEW MIN 4714132.480111599\n",
      "NEW MIN 4713960.3608727455\n",
      "NEW MIN 4713451.521160126\n",
      "NEW MIN 4712366.468001366\n",
      "NEW MIN 4711685.509049892\n",
      "[155, 0, 132, 66, 76, 33, 116, 24, 6, 161, 167, 19, 35, 98, 136, 183, 99, 169, 35, 46, 60, 85, 139, 192, 167, 9, 95, 118, 51, 151, 68, 180, 72, 175, 3, 24, 149, 157, 120, 199, 108, 49, 151, 175, 142, 35, 76, 9, 123, 30, 133, 18, 4, 157, 90, 99, 162, 3, 160, 118, 183, 167, 3, 26, 51, 37, 25, 25, 90, 198, 18, 162, 146, 82, 60, 118, 101, 70, 159, 30, 123, 132, 57, 92, 37, 71, 146, 153, 2, 180, 18, 30, 139, 98, 85, 33, 141, 94, 162, 90, 113, 108, 149, 119, 46, 118, 175, 192, 140, 173, 144, 99, 34, 120, 43, 30, 165, 33, 139, 69, 37, 32, 179, 134, 0, 171, 108, 192, 6, 197, 66, 6, 76, 4, 123, 155, 98, 66, 49, 18, 105, 60, 136, 133, 69, 32, 140, 3, 119, 4, 142, 92, 160, 165, 0, 113, 176, 22, 146, 146, 32, 101, 160, 123, 118, 32, 121, 9, 56, 123, 151, 135, 146, 85, 49, 32, 22, 179, 45, 95, 167, 9, 60, 94, 199, 139, 177, 177, 151, 151, 118, 26, 178, 60, 49, 26, 35, 100, 179, 123, 144, 68, 9, 119, 176, 183, 136, 82, 19, 173, 121, 114, 43, 25, 68, 94, 4, 180, 165, 116, 92, 72, 175, 43, 99, 34, 165, 134, 60, 186, 55, 177, 32, 2, 160, 114, 99, 6, 94, 159, 136, 133, 123, 118, 167, 37, 100, 95, 100, 105, 197, 45, 151, 35, 45, 133, 134, 134, 172, 90, 89, 9, 7, 152, 43, 101, 186, 144, 133, 30, 198, 85, 126, 153, 126, 173, 4, 98, 19, 132, 119, 34, 137, 161, 162, 45, 169, 2, 100, 116, 113, 123, 56, 114, 37, 0, 157, 167, 189, 152, 151, 70, 180, 94, 113, 52, 159, 46, 70, 76, 18, 120, 175, 26, 189, 197, 26, 169, 157, 137, 24, 199, 179, 169, 116, 199, 101, 24, 135, 141, 116, 120, 118, 198, 159, 22, 25, 51, 30, 35, 144, 22, 134, 178, 114, 71, 70, 89, 161, 3, 19, 69, 171, 168, 69, 179, 85, 135, 108, 35, 90, 141, 25, 89, 126, 183, 126, 116, 171, 79, 51, 189, 34, 101, 197, 92, 70, 68, 92, 79, 0, 71, 116, 100, 66, 57, 165, 119, 153, 69, 51, 157, 133, 89, 0, 178, 161, 180, 98, 178, 76, 140, 90, 45, 35, 180, 137, 79, 105, 192, 151, 79, 175, 183, 162, 94, 169, 113, 189, 178, 139, 92, 9, 24, 0, 159, 70, 198, 197, 151, 116, 120, 155, 144, 68, 71, 69, 52, 153, 159, 186, 188, 6, 3, 159, 43, 188, 57, 57, 60, 18, 99, 7, 37, 52, 183, 19, 173, 157, 26, 188, 34, 7, 34, 132, 173, 22, 159, 167, 136, 136, 142, 137, 26, 46, 152, 25, 25, 22, 71, 141, 126, 70, 144, 101, 113, 114, 144, 68, 137, 113, 89, 171, 30, 141, 56, 135, 146, 3, 172, 132, 186, 46, 144, 186, 52, 69, 119, 0, 188, 149, 144, 45, 89, 45, 176, 22, 197, 162, 95, 100, 160, 114, 22, 175, 7, 188, 123, 180, 9, 19, 119, 178, 3, 144, 9, 159, 7, 45, 186, 144, 123, 70, 177, 168, 173, 71, 140, 120, 60, 72, 160, 159, 71, 192, 177, 2, 167, 70, 142, 139, 135, 161, 186, 173, 82, 6, 108, 92, 146, 94, 66, 101, 34, 55, 32, 92, 176, 95, 34, 72, 168, 135, 2, 68, 149, 198, 180, 186, 137, 24, 160, 179, 89, 172, 176, 140, 43, 146, 142, 157, 114, 160, 139, 114, 183, 94, 66, 197, 188, 46, 171, 71, 183, 157, 3, 119, 141, 108, 108, 171, 72, 43, 98, 33, 6, 33, 95, 4, 177, 165, 192, 3, 160, 26, 0, 135, 176, 101, 134, 120, 72, 149, 199, 192, 198, 180, 121, 94, 49, 134, 121, 199, 66, 72, 197, 162, 179, 92, 68, 173, 121, 189, 167, 57, 165, 2, 134, 35, 95, 142, 95, 82, 133, 43, 51, 26, 137, 57, 19, 72, 60, 46, 126, 85, 45, 136, 30, 71, 141, 178, 197, 37, 171, 178, 56, 85, 167, 142, 66, 34, 168, 175, 32, 100, 165, 55, 153, 199, 57, 4, 114, 146, 51, 2, 19, 66, 72, 19, 157, 51, 180, 101, 173, 98, 118, 4, 43, 52, 56, 90, 136, 9, 34, 114, 52, 51, 60, 186, 34, 60, 120, 60, 76, 186, 144, 24, 189, 137, 153, 161, 30, 69, 139, 183, 76, 157, 168, 37, 57, 79, 179, 116, 173, 172, 140, 94, 7, 52, 85, 168, 56, 133, 183, 105, 51, 152, 69, 32, 175, 113, 33, 169, 105, 26, 189, 33, 141, 139, 0, 24, 157, 199, 108, 178, 79, 22, 114, 56, 105]\n"
     ]
    }
   ],
   "source": [
    "get_result('4_fl_200_7', 4712000, False)"
   ]
  },
  {
   "cell_type": "code",
   "execution_count": null,
   "id": "2905a911",
   "metadata": {},
   "outputs": [
    {
     "name": "stdout",
     "output_type": "stream",
     "text": [
      "NEW MIN 39310463.765823364\n",
      "NEW MIN 37793471.7893219\n"
     ]
    }
   ],
   "source": [
    "get_result('5_fl_500_7', 27007000, False)"
   ]
  },
  {
   "cell_type": "code",
   "execution_count": null,
   "id": "e1a73cb1",
   "metadata": {},
   "outputs": [],
   "source": [
    "get_result('6_fl_2000_2', 7376400, False)"
   ]
  },
  {
   "cell_type": "code",
   "execution_count": null,
   "id": "02dd5764",
   "metadata": {},
   "outputs": [],
   "source": [
    "get_result('5_fl_500_7', 27007000, False)"
   ]
  }
 ],
 "metadata": {
  "kernelspec": {
   "display_name": "scipenv",
   "language": "python",
   "name": "scipenv"
  },
  "language_info": {
   "codemirror_mode": {
    "name": "ipython",
    "version": 3
   },
   "file_extension": ".py",
   "mimetype": "text/x-python",
   "name": "python",
   "nbconvert_exporter": "python",
   "pygments_lexer": "ipython3",
   "version": "3.10.9"
  }
 },
 "nbformat": 4,
 "nbformat_minor": 5
}

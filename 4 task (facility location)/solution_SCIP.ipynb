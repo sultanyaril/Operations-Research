{
 "cells": [
  {
   "cell_type": "code",
   "execution_count": 1,
   "id": "ee542333",
   "metadata": {},
   "outputs": [],
   "source": [
    "import pandas as pd\n",
    "import math\n",
    "from collections import namedtuple, defaultdict"
   ]
  },
  {
   "cell_type": "code",
   "execution_count": 2,
   "id": "efb8983b",
   "metadata": {},
   "outputs": [],
   "source": [
    "from ortools.linear_solver import pywraplp\n",
    "import asyncio"
   ]
  },
  {
   "cell_type": "code",
   "execution_count": 3,
   "id": "b09d1395",
   "metadata": {},
   "outputs": [],
   "source": [
    "Point = namedtuple(\"Point\", ['x', 'y'])\n",
    "Facility = namedtuple(\"Facility\", ['index', 'setup_cost', 'capacity', 'location'])\n",
    "Customer = namedtuple(\"Customer\", ['index', 'demand', 'location'])"
   ]
  },
  {
   "cell_type": "code",
   "execution_count": 4,
   "id": "69df94ab",
   "metadata": {},
   "outputs": [],
   "source": [
    "def length(point1, point2):\n",
    "    return math.sqrt((point1.x - point2.x)**2 + (point1.y - point2.y)**2)"
   ]
  },
  {
   "cell_type": "code",
   "execution_count": 8,
   "id": "e59ce315",
   "metadata": {},
   "outputs": [],
   "source": [
    "def solve_it(input_data, required_solution, use_memory=True):\n",
    "    # Modify this code to run your optimization algorithm\n",
    "\n",
    "    # parse the input\n",
    "    lines = input_data.split('\\n')\n",
    "\n",
    "    parts = lines[0].split()\n",
    "    facility_count = int(parts[0])\n",
    "    customer_count = int(parts[1])\n",
    "    \n",
    "    facilities = []\n",
    "    for i in range(1, facility_count+1):\n",
    "        parts = lines[i].split()\n",
    "        facilities.append(Facility(i-1, float(parts[0]), int(parts[1]), Point(float(parts[2]), float(parts[3])) ))\n",
    "\n",
    "    customers = []\n",
    "    for i in range(facility_count+1, facility_count+1+customer_count):\n",
    "        parts = lines[i].split()\n",
    "        customers.append(Customer(i-1-facility_count, int(parts[0]), Point(float(parts[1]), float(parts[2]))))\n",
    "\n",
    "    # build a trivial solution\n",
    "    # Define the problem parameters\n",
    "    distances = defaultdict(dict)\n",
    "    if use_memory:\n",
    "        for i in range(facility_count):\n",
    "            for j in range(customer_count):\n",
    "                distances[i][j] = length(facilities[i].location, customers[j].location)\n",
    "\n",
    "    # Create the solver\n",
    "    solver = pywraplp.Solver.CreateSolver('SCIP')\n",
    "\n",
    "    # Define the decision variables\n",
    "    facilities_var = [solver.IntVar(0, 1, f'facility_{i}') for i in range(facility_count)]\n",
    "    customers_var = [[solver.IntVar(0, 1, f'customer_{j}{i}') for i in range(customer_count)] for j in range(facility_count)]\n",
    "    \n",
    "    # Define the constraints\n",
    "    for i in range(customer_count):\n",
    "        solver.Add(sum(customers_var[j][i] for j in range(facility_count)) == 1)\n",
    "        \n",
    "    for i in range(facility_count):\n",
    "        solver.Add(sum(customers_var[i][j] * customers[j].demand for j in range(customer_count)) <= facilities[i].capacity)\n",
    "\n",
    "    for i in range(facility_count):\n",
    "        for j in range(customer_count):\n",
    "            solver.Add(customers_var[i][j] <= facilities_var[i])\n",
    "        \n",
    "    # Define the objective function\n",
    "    fixed_cost = sum(facilities_var[i] * facilities[i].setup_cost for i in range(facility_count))\n",
    "    if use_memory:\n",
    "        transport_cost = sum(distances[i][j] * customers_var[i][j] for i in range(facility_count) for j in range(customer_count))\n",
    "    else:\n",
    "        transport_cost = sum(length(facilities[i].location, customers[j].location) * customers_var[i][j] for i in range(facility_count) for j in range(customer_count))\n",
    "    objective = solver.Minimize(fixed_cost + transport_cost)    \n",
    "    \n",
    "    # Solve the problem\n",
    "    \n",
    "    solver.SetNumThreads(6)\n",
    "    solver.SetTimeLimit(240 * 1000)\n",
    "    solver.Solve()\n",
    "    \n",
    "    print(solver.Objective().Value())\n",
    "    # Print the solution\n",
    "    solution = []\n",
    "    for j in range(customer_count):\n",
    "        for i in range(facility_count):\n",
    "            if customers_var[i][j].solution_value():\n",
    "                solution.append(i)\n",
    "    \n",
    "    return solution"
   ]
  },
  {
   "cell_type": "code",
   "execution_count": 9,
   "id": "96281bd1",
   "metadata": {},
   "outputs": [],
   "source": [
    "def get_result(file_name, reqired_solution, use_memory=True):\n",
    "    with open('data/'+file_name, 'r') as input_data_file:\n",
    "        input_data = input_data_file.read()\n",
    "    solution = solve_it(input_data, reqired_solution, use_memory)\n",
    "    print(solution)\n",
    "    res = pd.DataFrame(solution, columns=['Order'])\n",
    "    res.to_excel(file_name+'_res.xlsx', index=False, header=True)"
   ]
  },
  {
   "cell_type": "code",
   "execution_count": 10,
   "id": "718ca16b",
   "metadata": {},
   "outputs": [
    {
     "name": "stdout",
     "output_type": "stream",
     "text": [
      "3269821.320530881\n",
      "[7, 7, 7, 7, 7, 7, 6, 7, 7, 7, 10, 7, 7, 7, 7, 7, 7, 6, 7, 7, 7, 7, 7, 7, 7, 7, 21, 7, 7, 7, 7, 7, 7, 16, 7, 7, 11, 6, 7, 7, 7, 7, 7, 7, 7, 7, 7, 7, 7, 7]\n"
     ]
    }
   ],
   "source": [
    "get_result('1_fl_25_2', 3270000)"
   ]
  },
  {
   "cell_type": "code",
   "execution_count": 202,
   "id": "07a567e7",
   "metadata": {},
   "outputs": [
    {
     "name": "stdout",
     "output_type": "stream",
     "text": [
      "SOLUTION # 1 HAS OBJ 3732793.43377155\n",
      "[28, 24, 19, 25, 14, 15, 34, 3, 9, 24, 35, 42, 41, 24, 49, 3, 16, 26, 43, 45, 45, 41, 9, 34, 9, 13, 19, 8, 38, 24, 24, 7, 9, 25, 31, 33, 28, 9, 28, 25, 38, 40, 35, 7, 2, 19, 40, 25, 41, 9, 34, 44, 41, 18, 35, 5, 9, 31, 14, 35, 31, 35, 44, 43, 9, 4, 8, 14, 25, 45, 28, 33, 41, 39, 42, 6, 8, 35, 6, 24, 40, 47, 31, 24, 31, 24, 24, 45, 34, 9, 7, 2, 5, 39, 25, 35, 24, 40, 31, 3, 47, 6, 39, 16, 31, 44, 2, 16, 9, 13, 8, 9, 47, 35, 15, 24, 43, 25, 42, 16, 35, 28, 34, 35, 13, 5, 8, 35, 18, 11, 38, 39, 43, 41, 47, 44, 9, 41, 9, 38, 38, 28, 19, 9, 28, 28, 42, 41, 47, 9, 35, 38, 29, 8, 45, 49, 16, 25, 26, 31, 38, 5, 49, 10, 7, 40, 44, 29, 34, 10, 2, 41, 13, 31, 40, 28, 35, 49, 44, 33, 4, 2, 16, 47, 28, 9, 3, 31, 11, 16, 31, 25, 5, 42, 13, 31, 8, 40, 44, 45]\n"
     ]
    }
   ],
   "source": [
    "get_result('2_fl_50_6', 3733000)"
   ]
  },
  {
   "cell_type": "code",
   "execution_count": 26,
   "id": "0eb1a4d1",
   "metadata": {},
   "outputs": [
    {
     "name": "stdout",
     "output_type": "stream",
     "text": [
      "[70, 70, 70, 70, 70, 70, 70, 70, 70, 70, 70, 70, 70, 70, 70, 70, 70, 70, 70, 70, 70, 70, 70, 70, 70, 70, 70, 70, 70, 70, 70, 70, 70, 70, 70, 70, 70, 70, 70, 70, 70, 70, 70, 70, 70, 70, 70, 70, 70, 70, 70, 70, 70, 70, 70, 70, 70, 70, 70, 70, 70, 70, 70, 70, 70, 70, 70, 70, 70, 70, 70, 70, 70, 70, 70, 70, 70, 70, 70, 70, 70, 70, 70, 70, 70, 70, 70, 70, 70, 70, 70, 70, 70, 70, 70, 70, 70, 70, 70, 70]\n"
     ]
    }
   ],
   "source": [
    "get_result('3_fl_100_7', 1970)"
   ]
  },
  {
   "cell_type": "code",
   "execution_count": 23,
   "id": "2ec3ece1",
   "metadata": {},
   "outputs": [
    {
     "name": "stdout",
     "output_type": "stream",
     "text": [
      "[7, 7, 7, 7, 7, 7, 6, 7, 7, 7, 10, 7, 7, 7, 7, 7, 7, 6, 7, 7, 7, 7, 7, 7, 7, 7, 21, 7, 7, 7, 7, 7, 7, 16, 7, 7, 11, 6, 7, 7, 7, 7, 7, 7, 7, 7, 7, 7, 7, 7]\n"
     ]
    }
   ],
   "source": [
    "get_result('1_fl_25_2', 3270000, False)"
   ]
  },
  {
   "cell_type": "code",
   "execution_count": 30,
   "id": "fc3e0422",
   "metadata": {},
   "outputs": [
    {
     "name": "stdout",
     "output_type": "stream",
     "text": [
      "[]\n"
     ]
    }
   ],
   "source": [
    "get_result('4_fl_200_7', 4712000, False)"
   ]
  },
  {
   "cell_type": "code",
   "execution_count": null,
   "id": "2905a911",
   "metadata": {},
   "outputs": [],
   "source": [
    "get_result('5_fl_500_7', 27007000, False)"
   ]
  },
  {
   "cell_type": "code",
   "execution_count": null,
   "id": "959adfa2",
   "metadata": {},
   "outputs": [],
   "source": []
  }
 ],
 "metadata": {
  "kernelspec": {
   "display_name": "scipenv",
   "language": "python",
   "name": "scipenv"
  },
  "language_info": {
   "codemirror_mode": {
    "name": "ipython",
    "version": 3
   },
   "file_extension": ".py",
   "mimetype": "text/x-python",
   "name": "python",
   "nbconvert_exporter": "python",
   "pygments_lexer": "ipython3",
   "version": "3.10.9"
  }
 },
 "nbformat": 4,
 "nbformat_minor": 5
}

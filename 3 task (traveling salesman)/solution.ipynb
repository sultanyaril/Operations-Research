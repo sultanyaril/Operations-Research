{
 "cells": [
  {
   "cell_type": "code",
   "execution_count": 1,
   "id": "cb0c99be",
   "metadata": {},
   "outputs": [],
   "source": [
    "import pandas as pd\n",
    "import math\n",
    "from collections import namedtuple, defaultdict"
   ]
  },
  {
   "cell_type": "code",
   "execution_count": 2,
   "id": "c50f6a9d",
   "metadata": {},
   "outputs": [],
   "source": [
    "from ortools.constraint_solver import routing_enums_pb2\n",
    "from ortools.constraint_solver import pywrapcp"
   ]
  },
  {
   "cell_type": "code",
   "execution_count": 3,
   "id": "31b7475a",
   "metadata": {},
   "outputs": [],
   "source": [
    "Point = namedtuple(\"Point\", ['x', 'y'])"
   ]
  },
  {
   "cell_type": "code",
   "execution_count": 4,
   "id": "09e19c2c",
   "metadata": {},
   "outputs": [],
   "source": [
    "def length(point1, point2):\n",
    "    return math.sqrt((point1.x - point2.x)**2 + (point1.y - point2.y)**2)"
   ]
  },
  {
   "cell_type": "code",
   "execution_count": 5,
   "id": "25f029b4",
   "metadata": {},
   "outputs": [],
   "source": [
    "def solve_it(input_data, time_limit=120, file_name='LOG'):\n",
    "    # Modify this code to run your optimization algorithm\n",
    "\n",
    "    # parse the input\n",
    "    lines = input_data.split('\\n')\n",
    "\n",
    "    node_count = int(lines[0])\n",
    "\n",
    "    points = []\n",
    "    for i in range(1, node_count+1):\n",
    "        line = lines[i]\n",
    "        parts = line.split()\n",
    "        points.append(Point(float(parts[0]), float(parts[1])))\n",
    "    \n",
    "    #Distance matrix\n",
    "    distance_matrix = defaultdict(dict)\n",
    "    for i, p_i in enumerate(points):\n",
    "        for j, p_j in enumerate(points):\n",
    "            distance_matrix[i][j] = int(length(p_i, p_j))\n",
    "    \n",
    "    manager = pywrapcp.RoutingIndexManager(node_count, 1, 0)  # 1-vehicle, 0-depot\n",
    "    routing = pywrapcp.RoutingModel(manager)\n",
    "    \n",
    "    def distance_callback(from_index, to_index):\n",
    "        \"\"\"Returns the distance between the two nodes.\"\"\"\n",
    "        # Convert from routing variable Index to distance matrix NodeIndex.\n",
    "        from_node = manager.IndexToNode(from_index)\n",
    "        to_node = manager.IndexToNode(to_index)\n",
    "        return distance_matrix[from_node][to_node]\n",
    "    \n",
    "    transit_callback_index = routing.RegisterTransitCallback(distance_callback)\n",
    "    # Define cost of each arc.\n",
    "    routing.SetArcCostEvaluatorOfAllVehicles(transit_callback_index)\n",
    "\n",
    "    # Setting first solution heuristic.\n",
    "    search_parameters = pywrapcp.DefaultRoutingSearchParameters()\n",
    "    search_parameters.first_solution_strategy = (\n",
    "        routing_enums_pb2.FirstSolutionStrategy.PATH_CHEAPEST_ARC)\n",
    "    search_parameters.local_search_metaheuristic = routing_enums_pb2.LocalSearchMetaheuristic.GUIDED_LOCAL_SEARCH\n",
    "    search_parameters.time_limit.seconds = time_limit\n",
    "    search_parameters.log_search = True\n",
    "\n",
    "    # Solve the problem.\n",
    "    result = routing.SolveWithParameters(search_parameters)\n",
    "\n",
    "    print(file_name+\": OBJECTIVE VALUE IS \", result.ObjectiveValue())    \n",
    "        \n",
    "    solution=[]\n",
    "\n",
    "    index = routing.Start(0)\n",
    "    while not routing.IsEnd(index):\n",
    "        solution.append(manager.IndexToNode(index))\n",
    "        previous_index = index\n",
    "        index = result.Value(routing.NextVar(index))\n",
    "    \n",
    "    return solution"
   ]
  },
  {
   "cell_type": "code",
   "execution_count": 6,
   "id": "416bc62f",
   "metadata": {},
   "outputs": [],
   "source": [
    "def get_result(file_name, time_limit=120):\n",
    "    with open('data/'+file_name, 'r') as input_data_file:\n",
    "        input_data = input_data_file.read()\n",
    "    solution = solve_it(input_data, time_limit, file_name)\n",
    "    res = pd.DataFrame(solution, columns=['Order'])\n",
    "    res.to_excel(file_name+'_res.xlsx', index=False, header=True)"
   ]
  },
  {
   "cell_type": "code",
   "execution_count": null,
   "id": "a3ec782d",
   "metadata": {},
   "outputs": [
    {
     "name": "stdout",
     "output_type": "stream",
     "text": [
      "1_tsp_51_1: OBJECTIVE VALUE IS  0\n"
     ]
    }
   ],
   "source": [
    "for file_name in ['1_tsp_51_1', '2_tsp_100_3', '3_tsp_200_2', '4_tsp_574_1', '5_tsp_1889_1', '6_tsp_33810_1']:\n",
    "    get_result(file_name, 20)"
   ]
  },
  {
   "cell_type": "code",
   "execution_count": 7,
   "id": "c1a3d5d9",
   "metadata": {},
   "outputs": [],
   "source": [
    "def get_precise_result(file_name, required_sol):\n",
    "    with open('data/'+file_name, 'r') as input_data_file:\n",
    "        input_data = input_data_file.read()\n",
    "    solution = solve_it_with_other_params(input_data, required_sol, file_name)\n",
    "    res = pd.DataFrame(solution, columns=['Order'])\n",
    "    res.to_excel(file_name+'_res.xlsx', index=False, header=True)"
   ]
  },
  {
   "cell_type": "code",
   "execution_count": 8,
   "id": "ea80dbdd",
   "metadata": {},
   "outputs": [],
   "source": [
    "def solve_it_with_other_params(input_data, required_solution, file_name='LOG'):\n",
    "    # Modify this code to run your optimization algorithm\n",
    "\n",
    "    # parse the input\n",
    "    lines = input_data.split('\\n')\n",
    "\n",
    "    node_count = int(lines[0])\n",
    "\n",
    "    points = []\n",
    "    for i in range(1, node_count+1):\n",
    "        line = lines[i]\n",
    "        parts = line.split()\n",
    "        points.append(Point(float(parts[0]), float(parts[1])))\n",
    "    \n",
    "    #Distance matrix\n",
    "    distance_matrix = defaultdict(dict)\n",
    "    distance_matrix_float = defaultdict(dict)\n",
    "    for i, p_i in enumerate(points):\n",
    "        for j, p_j in enumerate(points):\n",
    "            distance_matrix[i][j] = int(length(p_i, p_j))\n",
    "            distance_matrix_float[i][j] = length(p_i, p_j)\n",
    "    \n",
    "    manager = pywrapcp.RoutingIndexManager(node_count, 1, 0)  # 1-vehicle, 0-depot\n",
    "    routing = pywrapcp.RoutingModel(manager)\n",
    "    \n",
    "    def distance_callback(from_index, to_index):\n",
    "        \"\"\"Returns the distance between the two nodes.\"\"\"\n",
    "        # Convert from routing variable Index to distance matrix NodeIndex.\n",
    "        from_node = manager.IndexToNode(from_index)\n",
    "        to_node = manager.IndexToNode(to_index)\n",
    "        return distance_matrix[from_node][to_node]\n",
    "    \n",
    "    transit_callback_index = routing.RegisterTransitCallback(distance_callback)\n",
    "    # Define cost of each arc.\n",
    "    routing.SetArcCostEvaluatorOfAllVehicles(transit_callback_index)\n",
    "    \n",
    "    def solution_callback():\n",
    "        cost = 0\n",
    "        index = routing.Start(0)\n",
    "        while not routing.IsEnd(index):\n",
    "            previous_index = index\n",
    "            index = routing.NextVar(index).Value()\n",
    "            cost += distance_matrix_float[manager.IndexToNode(previous_index)][manager.IndexToNode(index)]\n",
    "        first = routing.Start(0)\n",
    "        cost += distance_matrix_float[manager.IndexToNode(index)][manager.IndexToNode(first)]\n",
    "        if cost != 0 and cost < required_solution:\n",
    "            print('PERFECT SOLUTION FOUND')\n",
    "            routing.solver().FinishCurrentSearch()\n",
    "        \n",
    "    \n",
    "    routing.AddAtSolutionCallback(solution_callback)\n",
    "    \n",
    "    # Setting first solution heuristic.\n",
    "    search_parameters = pywrapcp.DefaultRoutingSearchParameters()\n",
    "    search_parameters.first_solution_strategy = (\n",
    "        routing_enums_pb2.FirstSolutionStrategy.PATH_CHEAPEST_ARC)\n",
    "    search_parameters.local_search_metaheuristic = routing_enums_pb2.LocalSearchMetaheuristic.GUIDED_LOCAL_SEARCH\n",
    "    #search_parameters.time_limit.seconds = 20\n",
    "    search_parameters.log_search = True\n",
    "\n",
    "    # Solve the problem.\n",
    "    result = routing.SolveWithParameters(search_parameters)\n",
    "\n",
    "    print(file_name+\": OBJECTIVE VALUE IS \", result.ObjectiveValue())    \n",
    "        \n",
    "    solution=[]\n",
    "\n",
    "    index = routing.Start(0)\n",
    "    while not routing.IsEnd(index):\n",
    "        solution.append(manager.IndexToNode(index))\n",
    "        previous_index = index\n",
    "        index = result.Value(routing.NextVar(index))\n",
    "    \n",
    "    return solution"
   ]
  },
  {
   "cell_type": "code",
   "execution_count": 19,
   "id": "8dd29c0c",
   "metadata": {},
   "outputs": [
    {
     "name": "stdout",
     "output_type": "stream",
     "text": [
      "PERFECT SOLUTION FOUND\n",
      "1_tsp_51_1: OBJECTIVE VALUE IS  412\n"
     ]
    }
   ],
   "source": [
    "get_precise_result('1_tsp_51_1', 429)"
   ]
  },
  {
   "cell_type": "code",
   "execution_count": 17,
   "id": "39090d2b",
   "metadata": {},
   "outputs": [
    {
     "name": "stdout",
     "output_type": "stream",
     "text": [
      "4_tsp_574_1: OBJECTIVE VALUE IS  0\n"
     ]
    }
   ],
   "source": [
    "get_precise_result('4_tsp_574_1', 37600)"
   ]
  },
  {
   "cell_type": "code",
   "execution_count": null,
   "id": "d8158f08",
   "metadata": {},
   "outputs": [],
   "source": [
    "get_precise_result('5_tsp_1889_1', 323000)"
   ]
  },
  {
   "cell_type": "code",
   "execution_count": 65,
   "id": "b13927b3",
   "metadata": {},
   "outputs": [],
   "source": [
    "def solve_it_for_last(input_data, required_solution, file_name='LOG'):\n",
    "    # Modify this code to run your optimization algorithm\n",
    "\n",
    "    # parse the input\n",
    "    lines = input_data.split('\\n')\n",
    "\n",
    "    node_count = int(lines[0])\n",
    "\n",
    "    points = []\n",
    "    for i in range(1, node_count+1):\n",
    "        line = lines[i]\n",
    "        parts = line.split()\n",
    "        points.append(Point(float(parts[0]), float(parts[1])))\n",
    "    \n",
    "    manager = pywrapcp.RoutingIndexManager(node_count, 1, 0)  # 1-vehicle, 0-depot\n",
    "    routing = pywrapcp.RoutingModel(manager)\n",
    "    \n",
    "    def distance_callback(from_index, to_index):\n",
    "        \"\"\"Returns the distance between the two nodes.\"\"\"\n",
    "        # Convert from routing variable Index to distance matrix NodeIndex.\n",
    "        from_node = manager.IndexToNode(from_index)\n",
    "        to_node = manager.IndexToNode(to_index)\n",
    "        return int(length(points[from_node], points[to_node]))\n",
    "    \n",
    "    transit_callback_index = routing.RegisterTransitCallback(distance_callback)\n",
    "    # Define cost of each arc.\n",
    "    routing.SetArcCostEvaluatorOfAllVehicles(transit_callback_index)\n",
    "    \n",
    "    class Solution_Callback():\n",
    "        def __init__(self):\n",
    "            self.best_value = float('inf')\n",
    "        def __call__(self):\n",
    "            if routing.CostVar().Min() >= self.best_value:\n",
    "                return\n",
    "            self.best_value = routing.CostVar().Min()\n",
    "            cost = 0\n",
    "            index = routing.Start(0)\n",
    "            while not routing.IsEnd(index):\n",
    "                previous_index = index\n",
    "                index = routing.NextVar(index).Value()\n",
    "                cost += length(points[manager.IndexToNode(previous_index)], points[manager.IndexToNode(index)])\n",
    "            first = routing.Start(0)\n",
    "            cost += length(points[manager.IndexToNode(index)], points[manager.IndexToNode(first)])\n",
    "            if cost != 0 and cost < required_solution:\n",
    "                print('PERFECT SOLUTION FOUND')\n",
    "                routing.solver().FinishCurrentSearch()\n",
    "            \n",
    "    solution_callback = Solution_Callback()   \n",
    "    \n",
    "    routing.AddAtSolutionCallback(solution_callback)\n",
    "    \n",
    "    # Setting first solution heuristic.\n",
    "    search_parameters = pywrapcp.DefaultRoutingSearchParameters()\n",
    "    search_parameters.first_solution_strategy = (\n",
    "        routing_enums_pb2.FirstSolutionStrategy.PATH_CHEAPEST_ARC)\n",
    "    search_parameters.local_search_metaheuristic = routing_enums_pb2.LocalSearchMetaheuristic.GUIDED_LOCAL_SEARCH\n",
    "    #search_parameters.time_limit.seconds = 20\n",
    "    search_parameters.log_search = True\n",
    "\n",
    "    # Solve the problem.\n",
    "    result = routing.SolveWithParameters(search_parameters)\n",
    "\n",
    "    print(file_name+\": OBJECTIVE VALUE IS \", result.ObjectiveValue())    \n",
    "        \n",
    "    solution=[]\n",
    "\n",
    "    index = routing.Start(0)\n",
    "    while not routing.IsEnd(index):\n",
    "        solution.append(manager.IndexToNode(index))\n",
    "        previous_index = index\n",
    "        index = result.Value(routing.NextVar(index))\n",
    "    \n",
    "    return solution"
   ]
  },
  {
   "cell_type": "code",
   "execution_count": 66,
   "id": "dbd206b2",
   "metadata": {},
   "outputs": [],
   "source": [
    "def get_last_result(file_name, required_sol):\n",
    "    with open('data/'+file_name, 'r') as input_data_file:\n",
    "        input_data = input_data_file.read()\n",
    "    solution = solve_it_for_last(input_data, required_sol, file_name)\n",
    "    res = pd.DataFrame(solution, columns=['Order'])\n",
    "    res.to_excel(file_name+'_res.xlsx', index=False, header=True)"
   ]
  },
  {
   "cell_type": "code",
   "execution_count": 67,
   "id": "c0f20eec",
   "metadata": {},
   "outputs": [
    {
     "name": "stdout",
     "output_type": "stream",
     "text": [
      "PERFECT SOLUTION FOUND\n",
      "1_tsp_51_1: OBJECTIVE VALUE IS  412\n"
     ]
    }
   ],
   "source": [
    "get_last_result('1_tsp_51_1', 429)"
   ]
  },
  {
   "cell_type": "code",
   "execution_count": 68,
   "id": "3bfd0dc3",
   "metadata": {},
   "outputs": [
    {
     "name": "stdout",
     "output_type": "stream",
     "text": [
      "PERFECT SOLUTION FOUND\n",
      "6_tsp_33810_1: OBJECTIVE VALUE IS  78471731\n"
     ]
    }
   ],
   "source": [
    "get_last_result('6_tsp_33810_1', 78478868)"
   ]
  },
  {
   "cell_type": "code",
   "execution_count": null,
   "id": "d717d4a7",
   "metadata": {},
   "outputs": [],
   "source": []
  }
 ],
 "metadata": {
  "kernelspec": {
   "display_name": "scipenv",
   "language": "python",
   "name": "scipenv"
  },
  "language_info": {
   "codemirror_mode": {
    "name": "ipython",
    "version": 3
   },
   "file_extension": ".py",
   "mimetype": "text/x-python",
   "name": "python",
   "nbconvert_exporter": "python",
   "pygments_lexer": "ipython3",
   "version": "3.10.9"
  }
 },
 "nbformat": 4,
 "nbformat_minor": 5
}
